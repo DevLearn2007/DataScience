{
 "cells": [
  {
   "cell_type": "code",
   "execution_count": 1,
   "id": "8cff944c-b5ac-4f5f-8137-a6bf2a82e7ca",
   "metadata": {},
   "outputs": [],
   "source": [
    "import datetime"
   ]
  },
  {
   "cell_type": "markdown",
   "id": "b5ab1808-582f-407b-a6be-d4e1e242ef39",
   "metadata": {},
   "source": [
    "**Business Class For validating the Hourly Daily and Weekly Car Rend calculation**"
   ]
  },
  {
   "cell_type": "code",
   "execution_count": 5,
   "id": "e67d1995-3c73-4554-bff3-dd34f4c89248",
   "metadata": {},
   "outputs": [],
   "source": [
    "class CarRetail:\n",
    "    def __init__(self,stock):\n",
    "        self.stock=stock\n",
    "\n",
    "    def displayStock(self):\n",
    "        print(\"we have {} cars are available for rent\".format(self.stock))\n",
    "\n",
    "    def rentCarForHourly(self,n):\n",
    "        if n<1:\n",
    "            print(\"Numbers of cars should be positive\")\n",
    "            return None\n",
    "        if(n>self.stock):\n",
    "            print(\"sorry ! we have only {} this much of cars are available\")\n",
    "            return None\n",
    "        else:\n",
    "            now=datetime.datetime.now()\n",
    "            print(\"{} car is rent Hourly basis at today {} hours\".format(n,now.hour))\n",
    "            print(\"5$ are charge per hours\")\n",
    "            self.stock-=n\n",
    "            return now\n",
    "\n",
    "    def rentCarForDaily(self,n):\n",
    "        if n<1:\n",
    "            print(\"Numbers of cars should be positive\")\n",
    "            return None\n",
    "        if(n>self.stock):\n",
    "            print(\"sorry ! we have only {} this much of cars are available\")\n",
    "            return None\n",
    "        else:\n",
    "            now=datetime.datetime.now()\n",
    "            print(\"{} car is rent daily basis at today {} hours\".format(n,now.hour))\n",
    "            print(\"20$ are charge per Day\")\n",
    "            self.stock-=n\n",
    "            return now\n",
    "\n",
    "    def rentCarForWeekly(self,n):\n",
    "        if n<1:\n",
    "            print(\"Numbers of cars should be positive\")\n",
    "            return None\n",
    "        if(n>self.stock):\n",
    "            print(\"sorry ! we have only {} this much of cars are available\")\n",
    "            return None\n",
    "        else:\n",
    "            now=datetime.datetime.now();\n",
    "            print(\"{} car is rent weekly basis at today {} hours\".format(n,now.hour))\n",
    "            print(\"60$ are charge per week\")\n",
    "            self.stock-=n\n",
    "            return now\n",
    "\n",
    "    def returnCar(self,request):\n",
    "        rentaltime,rentalbasis,numofcar=request\n",
    "        bill=0\n",
    "        if rentaltime and rentalbasis and numofcar:\n",
    "            self.stock+=numofcar\n",
    "            now=datetime.datetime.now()\n",
    "            rentalPeriod=now-rentaltime\n",
    "\n",
    "            if rentalbasis==1:\n",
    "                bill=round(rentalPeriod.seconds/3600)*5*numofcar\n",
    "\n",
    "            elif rentalbasis==2:\n",
    "                bill = round(rentalPeriod.days) * 20 * numofcar\n",
    "\n",
    "            elif rentalbasis==3:\n",
    "                bill = round(rentalPeriod.days/7) * 60 * numofcar\n",
    "\n",
    "        if 3<=numofcar<=5:\n",
    "            bill=bill*.7\n",
    "        print(\"Rent Fee Amount {}\".format(bill))\n",
    "        print(\"Thanks for reaching us\")\n"
   ]
  },
  {
   "cell_type": "markdown",
   "id": "9f6f1e47-7cbd-4b72-a966-90a3b77847b4",
   "metadata": {},
   "source": [
    "**Model Class For the Car Rent State Information**"
   ]
  },
  {
   "cell_type": "code",
   "execution_count": 2,
   "id": "3fbc61c7-f1fc-4af6-98d6-b77544ac68ca",
   "metadata": {},
   "outputs": [],
   "source": [
    "class Customer:\n",
    "    def __init__(self):\n",
    "        self.car=0\n",
    "        self.rentaltime=0\n",
    "        self.rentalbasis=0\n",
    "        self.bill=0\n",
    "\n",
    "    def requestCar(self):\n",
    "        cars=input(\"How many cars would you like to rent?\")\n",
    "\n",
    "        try:\n",
    "            cars=int(cars)\n",
    "        except ValueError:\n",
    "            print(\"Thats not positive interger\")\n",
    "            return -1\n",
    "\n",
    "        if cars< 1:\n",
    "            print(\"invaild input .numbers of cars should be greater than zero\")\n",
    "            return -1\n",
    "        else:\n",
    "            self.car=cars\n",
    "        return self.car\n",
    "\n",
    "    def returnCar(self):\n",
    "        if self.rentaltime and self.rentalbasis and self.car:\n",
    "            return  self.rentaltime,self.rentalbasis,self.car\n",
    "        else:\n",
    "            return 0,0,0\n",
    "\n",
    "\n"
   ]
  },
  {
   "cell_type": "markdown",
   "id": "a28ab3f1-304b-4bd4-acfc-2eb214573f56",
   "metadata": {},
   "source": [
    "**Main Class for Execution Entry alias Controller**"
   ]
  },
  {
   "cell_type": "code",
   "execution_count": 7,
   "id": "abb2f6b4-9c9d-44c0-8c44-b38add216d09",
   "metadata": {},
   "outputs": [],
   "source": [
    "def main():\n",
    "    shop=CarRetail(100)\n",
    "    customer=Customer()\n",
    "\n",
    "    while True:\n",
    "        print(\"\"\"\n",
    "        ====================Card Rental Shop-============\n",
    "        1.Display Available Cars\n",
    "        2.Request a car on hourly basis $5\n",
    "        3.Request a car on daily basis $20\n",
    "        4.Request a car on weekly basis $60\n",
    "        5.Return a Car\n",
    "        6.Exit\n",
    "        \"\"\")\n",
    "        try:\n",
    "            choice=int(input(\"Enter your choice: \"))\n",
    "        except ValueError:\n",
    "            print(\"That's not a valid choice\")\n",
    "            continue\n",
    "\n",
    "        if choice==1:\n",
    "            shop.displayStock()\n",
    "        elif choice==2:\n",
    "            customer.rentaltime=shop.rentCarForHourly(customer.requestCar())\n",
    "            customer.rentalbasis=1\n",
    "        elif choice==3:\n",
    "            customer.rentaltime = shop.rentCarForDaily(customer.requestCar())\n",
    "            customer.rentalbasis = 2\n",
    "        elif choice==4:\n",
    "            customer.rentaltime = shop.rentCarForWeekly(customer.requestCar())\n",
    "            customer.rentalbasis = 3\n",
    "        elif choice==5:\n",
    "            customer.bill=shop.returnCar(customer.returnCar())\n",
    "            customer.rentalbasis,customer.rentaltime,customer.car=0,0,0\n",
    "        elif choice==6:\n",
    "            break"
   ]
  },
  {
   "cell_type": "markdown",
   "id": "93795e25-87e5-452d-b477-93fcfaba9176",
   "metadata": {},
   "source": [
    "**Checking the  AVailable Car and Rent the 22 Car again we checking the available car now , finally return the car**"
   ]
  },
  {
   "cell_type": "code",
   "execution_count": 8,
   "id": "f65b206a-0879-4508-979c-ac68e976f0dc",
   "metadata": {},
   "outputs": [
    {
     "name": "stdout",
     "output_type": "stream",
     "text": [
      "\n",
      "        ====================Card Rental Shop-============\n",
      "        1.Display Available Cars\n",
      "        2.Request a car on hourly basis $5\n",
      "        3.Request a car on daily basis $20\n",
      "        4.Request a car on weekly basis $60\n",
      "        5.Return a Car\n",
      "        6.Exit\n",
      "        \n"
     ]
    },
    {
     "name": "stdin",
     "output_type": "stream",
     "text": [
      "Enter your choice:  1\n"
     ]
    },
    {
     "name": "stdout",
     "output_type": "stream",
     "text": [
      "we have 100 cars are available for rent\n",
      "\n",
      "        ====================Card Rental Shop-============\n",
      "        1.Display Available Cars\n",
      "        2.Request a car on hourly basis $5\n",
      "        3.Request a car on daily basis $20\n",
      "        4.Request a car on weekly basis $60\n",
      "        5.Return a Car\n",
      "        6.Exit\n",
      "        \n"
     ]
    },
    {
     "name": "stdin",
     "output_type": "stream",
     "text": [
      "Enter your choice:  2\n",
      "How many cars would you like to rent? 22\n"
     ]
    },
    {
     "name": "stdout",
     "output_type": "stream",
     "text": [
      "22 car is rent Hourly basis at today 6 hours\n",
      "5$ are charge per hours\n",
      "\n",
      "        ====================Card Rental Shop-============\n",
      "        1.Display Available Cars\n",
      "        2.Request a car on hourly basis $5\n",
      "        3.Request a car on daily basis $20\n",
      "        4.Request a car on weekly basis $60\n",
      "        5.Return a Car\n",
      "        6.Exit\n",
      "        \n"
     ]
    },
    {
     "name": "stdin",
     "output_type": "stream",
     "text": [
      "Enter your choice:  1\n"
     ]
    },
    {
     "name": "stdout",
     "output_type": "stream",
     "text": [
      "we have 78 cars are available for rent\n",
      "\n",
      "        ====================Card Rental Shop-============\n",
      "        1.Display Available Cars\n",
      "        2.Request a car on hourly basis $5\n",
      "        3.Request a car on daily basis $20\n",
      "        4.Request a car on weekly basis $60\n",
      "        5.Return a Car\n",
      "        6.Exit\n",
      "        \n"
     ]
    },
    {
     "name": "stdin",
     "output_type": "stream",
     "text": [
      "Enter your choice:  5\n"
     ]
    },
    {
     "name": "stdout",
     "output_type": "stream",
     "text": [
      "Rent Fee Amount 0\n",
      "Thanks for reaching us\n",
      "\n",
      "        ====================Card Rental Shop-============\n",
      "        1.Display Available Cars\n",
      "        2.Request a car on hourly basis $5\n",
      "        3.Request a car on daily basis $20\n",
      "        4.Request a car on weekly basis $60\n",
      "        5.Return a Car\n",
      "        6.Exit\n",
      "        \n"
     ]
    },
    {
     "name": "stdin",
     "output_type": "stream",
     "text": [
      "Enter your choice:  1\n"
     ]
    },
    {
     "name": "stdout",
     "output_type": "stream",
     "text": [
      "we have 100 cars are available for rent\n",
      "\n",
      "        ====================Card Rental Shop-============\n",
      "        1.Display Available Cars\n",
      "        2.Request a car on hourly basis $5\n",
      "        3.Request a car on daily basis $20\n",
      "        4.Request a car on weekly basis $60\n",
      "        5.Return a Car\n",
      "        6.Exit\n",
      "        \n"
     ]
    },
    {
     "name": "stdin",
     "output_type": "stream",
     "text": [
      "Enter your choice:  5\n"
     ]
    },
    {
     "name": "stdout",
     "output_type": "stream",
     "text": [
      "Rent Fee Amount 0\n",
      "Thanks for reaching us\n",
      "\n",
      "        ====================Card Rental Shop-============\n",
      "        1.Display Available Cars\n",
      "        2.Request a car on hourly basis $5\n",
      "        3.Request a car on daily basis $20\n",
      "        4.Request a car on weekly basis $60\n",
      "        5.Return a Car\n",
      "        6.Exit\n",
      "        \n"
     ]
    },
    {
     "name": "stdin",
     "output_type": "stream",
     "text": [
      "Enter your choice:  6\n"
     ]
    }
   ],
   "source": [
    "main()"
   ]
  },
  {
   "cell_type": "code",
   "execution_count": null,
   "id": "9f1e2e6a-07a4-4982-b093-202a06490302",
   "metadata": {},
   "outputs": [],
   "source": []
  }
 ],
 "metadata": {
  "kernelspec": {
   "display_name": "Python 3 [3.10]",
   "language": "python",
   "name": "python3"
  },
  "language_info": {
   "codemirror_mode": {
    "name": "ipython",
    "version": 3
   },
   "file_extension": ".py",
   "mimetype": "text/x-python",
   "name": "python",
   "nbconvert_exporter": "python",
   "pygments_lexer": "ipython3",
   "version": "3.10.2"
  }
 },
 "nbformat": 4,
 "nbformat_minor": 5
}
