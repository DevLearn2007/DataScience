{
 "cells": [
  {
   "cell_type": "code",
   "execution_count": 2,
   "id": "fb1c7f0b-1cae-4957-9c2d-46075a95d813",
   "metadata": {},
   "outputs": [],
   "source": [
    "import pandas as pd\n",
    "import seaborn as sns\n",
    "from datetime import datetime\n",
    "import numpy as np\n",
    "from sklearn.preprocessing import OrdinalEncoder\n",
    "from scipy import stats"
   ]
  },
  {
   "cell_type": "code",
   "execution_count": 3,
   "id": "8b8f571f-c753-41de-9659-2534ce313d8b",
   "metadata": {},
   "outputs": [],
   "source": [
    "data= pd.read_csv(\"marketing_data.csv\")"
   ]
  },
  {
   "cell_type": "markdown",
   "id": "a1818ef8-ee20-4bc5-8d1f-60a261562f83",
   "metadata": {},
   "source": [
    "**Examine variables such as Dt_Customer and Income to verify their accurate importation**"
   ]
  },
  {
   "cell_type": "code",
   "execution_count": 4,
   "id": "72ff7e25-caf7-423b-87b3-97d4359b26e4",
   "metadata": {},
   "outputs": [],
   "source": [
    "data['Income_New']=data[' Income '].str.replace(',', '',regex=False)\n",
    "data['Income_New']=data['Income_New'].str.replace('$', '',regex=False)\n",
    "data['Income_New']=data['Income_New'].astype(float)\n",
    "data['Dt_Customer_New'] = pd.to_datetime(data['Dt_Customer'])"
   ]
  },
  {
   "cell_type": "markdown",
   "id": "1708f6b4-ad1d-41f4-822b-37ab531cced5",
   "metadata": {},
   "source": [
    "**2. Data Clean up using education and marital status tend to have comparable yearly incomes**"
   ]
  },
  {
   "cell_type": "code",
   "execution_count": 5,
   "id": "6239dda2-65e1-4173-82a8-216d069b45f1",
   "metadata": {},
   "outputs": [],
   "source": [
    "data['Income_New']=data['Income_New'].fillna(data.groupby(['Education', 'Marital_Status'])['Income_New'].transform('mean'))"
   ]
  },
  {
   "cell_type": "markdown",
   "id": "7dba47b3-498e-4232-af37-30f024b9b3e7",
   "metadata": {},
   "source": [
    "**3.Create variables to represent the total number of children, age, and total spending.**"
   ]
  },
  {
   "cell_type": "code",
   "execution_count": 6,
   "id": "9ea9228d-a2ba-46a4-9f2c-899f95ac8d6d",
   "metadata": {},
   "outputs": [],
   "source": [
    "data['Age']=datetime.now().year-data['Year_Birth']\n",
    "data['total_children']=data['Kidhome']+data['Teenhome']\n",
    "data['total_spending']=data['MntWines'] + data['MntFruits']+ data['MntMeatProducts'] + data['MntFishProducts']+data['MntSweetProducts']+ data['MntGoldProds'] "
   ]
  },
  {
   "cell_type": "markdown",
   "id": "7ad3c10e-46c3-44a2-b207-dd4e1ff3259a",
   "metadata": {},
   "source": [
    "**4 Checked outlier treatment as needed.**"
   ]
  },
  {
   "cell_type": "code",
   "execution_count": 7,
   "id": "99ccb820-4ca1-48f3-b41c-5c2b3f7147bd",
   "metadata": {},
   "outputs": [],
   "source": [
    "q3=data['NumWebVisitsMonth'].quantile(.75)\n",
    "q1=data['NumWebVisitsMonth'].quantile(.25)\n",
    "iqr=q3-q1\n",
    "UB= q3+(1.5*iqr)\n",
    "data['NumWebVisitsMonth_New']=np.where(data['NumWebVisitsMonth']>UB,UB,data['NumWebVisitsMonth'])\n",
    "\n",
    "q3=data['NumStorePurchases'].quantile(.75)\n",
    "q1=data['NumStorePurchases'].quantile(.25)\n",
    "iqr=q3-q1\n",
    "UB= q3+(1.5*iqr)\n",
    "data['NumStorePurchases_New']=np.where(data['NumStorePurchases']>UB,UB,data['NumStorePurchases'])\n",
    "\n",
    "q3=data['NumWebVisitsMonth'].quantile(.75)\n",
    "q1=data['NumWebVisitsMonth'].quantile(.25)\n",
    "iqr=q3-q1\n",
    "UB= q3+(1.5*iqr)\n",
    "data['NumWebVisitsMonth_New']=np.where(data['NumWebVisitsMonth']>UB,UB,data['NumWebVisitsMonth'])\n",
    "\n"
   ]
  },
  {
   "cell_type": "markdown",
   "id": "164956c8-4d84-4f81-b8a6-456e4afb35d3",
   "metadata": {},
   "source": [
    "**5. ordinal and one-hot encoding based on the various types of categorical\n",
    "variables**"
   ]
  },
  {
   "cell_type": "code",
   "execution_count": 8,
   "id": "b935b4b8-add5-4190-8400-51aee7cd6bff",
   "metadata": {},
   "outputs": [],
   "source": [
    "ode=OrdinalEncoder()\n",
    "data['Education_New']=ode.fit_transform(data[['Education']])\n",
    "data['Marital_Status_New']=ode.fit_transform(data[['Marital_Status']])\n",
    "data['Country_New']=ode.fit_transform(data[['Country']])"
   ]
  },
  {
   "cell_type": "markdown",
   "id": "6af4815c-daee-4f8f-945c-5cb7f4c617ce",
   "metadata": {},
   "source": [
    "**6.  heatmap to illustrate the correlation between different pairs of\n",
    "variables**"
   ]
  },
  {
   "cell_type": "code",
   "execution_count": 9,
   "id": "f9c1f67c-0f0b-481e-aa7f-974ca11cdae0",
   "metadata": {},
   "outputs": [
    {
     "data": {
      "text/plain": [
       "<AxesSubplot: xlabel='Marital_Status_New', ylabel='Age'>"
      ]
     },
     "execution_count": 9,
     "metadata": {},
     "output_type": "execute_result"
    },
    {
     "data": {
      "image/png": "[encoded data removed]",
      "text/plain": [
       "<Figure size 432x288 with 2 Axes>"
      ]
     },
     "metadata": {
      "needs_background": "light"
     },
     "output_type": "display_data"
    }
   ],
   "source": [
    "contingency_table = pd.crosstab(data['Age'], data['Marital_Status_New'])\n",
    "sns.heatmap(contingency_table)"
   ]
  },
  {
   "cell_type": "markdown",
   "id": "5690c95a-f9c8-40a9-b5dc-075b18a9d1c4",
   "metadata": {},
   "source": [
    "\n",
    "**7.A Older individuals may not possess the same level of technological\n",
    "proficiency and may, therefore, lean toward traditional in-store shopping\n",
    "preferences**"
   ]
  },
  {
   "cell_type": "code",
   "execution_count": 10,
   "id": "941384bb-3585-44e0-84d1-9ed0600e6e4e",
   "metadata": {},
   "outputs": [
    {
     "name": "stdout",
     "output_type": "stream",
     "text": [
      "Fail to reject the null hypothesis: There is no significant difference in technological proficiency between age groups.\n"
     ]
    }
   ],
   "source": [
    "data['Age_Group'] = np.where(data['Age'] < 50, 'Younger', 'Older')\n",
    "data['Tech_Proficiency']=np.where(data['NumWebVisitsMonth']>0,1,0)\n",
    "younger_proficiency = data[data['Age_Group'] == 'Younger']['Tech_Proficiency']\n",
    "older_proficiency = data[data['Age_Group'] == 'Older']['Tech_Proficiency']\n",
    "\n",
    "t_statistic, p_value = stats.ttest_ind(younger_proficiency, older_proficiency)\n",
    "if p_value < 0.05:\n",
    "    print(\"Reject the null hypothesis: There is a significant difference in technological proficiency between age groups.\")\n",
    "else:\n",
    "    print(\"Fail to reject the null hypothesis: There is no significant difference in technological proficiency between age groups.\")"
   ]
  },
  {
   "cell_type": "markdown",
   "id": "650767a8-6298-4046-8c72-f7cc0865b2b2",
   "metadata": {},
   "source": [
    "**7.b Customers with children likely experience time constraints, making online\n",
    "shopping a more convenient option.**"
   ]
  },
  {
   "cell_type": "code",
   "execution_count": 11,
   "id": "cb0f11d3-4d15-48b6-b1c8-3055a48eabab",
   "metadata": {},
   "outputs": [
    {
     "name": "stdout",
     "output_type": "stream",
     "text": [
      "Reject the null hypothesis: There is a significant difference in children with Online purchase and children with Store purchase.\n"
     ]
    }
   ],
   "source": [
    "data['Age_Group'] = np.where(data['Age'] < 50, 'Younger', 'Older')\n",
    "data['Has_Children'] = np.where(data['total_children'] > 0, 'Yes', 'No')\n",
    "child_with_web_proficiency = data[data['Has_Children'] == 'Yes']['NumWebPurchases']\n",
    "child_with_store_proficiency = data[data['Has_Children'] == 'Yes']['NumStorePurchases']\n",
    "\n",
    "t_statistic, p_value = stats.ttest_ind(child_with_web_proficiency, child_with_store_proficiency)\n",
    "if p_value < 0.05:\n",
    "    print(\"Reject the null hypothesis: There is a significant difference in children with Online purchase and children with Store purchase.\")\n",
    "else:\n",
    "    print(\"Fail to reject the null hypothesis: There is no significant difference in children with Online purchase and children with Store purchase.\")"
   ]
  },
  {
   "cell_type": "markdown",
   "id": "bdb9b804-cd72-4780-93f4-52433bdc0acd",
   "metadata": {},
   "source": [
    "**7.C Sales at physical stores may face the risk of cannibalization by alternative\n",
    "distribution channels**"
   ]
  },
  {
   "cell_type": "code",
   "execution_count": 12,
   "id": "f33d6056-411f-482c-af60-43500e85101c",
   "metadata": {},
   "outputs": [
    {
     "name": "stdout",
     "output_type": "stream",
     "text": [
      "Store Purchases is High\n"
     ]
    }
   ],
   "source": [
    "NumCatalogPurchases=data['NumCatalogPurchases'].mean()\n",
    "NumStorePurchases=data['NumStorePurchases'].mean()\n",
    "NumWebPurchases=data['NumWebPurchases'].mean()\n",
    "largest = max(NumStorePurchases, NumCatalogPurchases, NumWebPurchases)\n",
    "if NumStorePurchases == largest:\n",
    "    print(\"Store Purchases is High\")\n",
    "elif NumCatalogPurchases == largest:\n",
    "     print(\"Catalog Purchases is High\")\n",
    "else:\n",
    "    print(\"Web Purchases is High\")"
   ]
  },
  {
   "cell_type": "markdown",
   "id": "9540b0f2-2c3c-44f1-9fbd-ee570fe39626",
   "metadata": {},
   "source": [
    "**7.D the United States significantly outperform the rest of the world in total purchase volumes**"
   ]
  },
  {
   "cell_type": "code",
   "execution_count": 13,
   "id": "e8b8da5e-fe9d-4ac8-aa2a-3d51010a9fe4",
   "metadata": {},
   "outputs": [
    {
     "name": "stdout",
     "output_type": "stream",
     "text": [
      "Total purchases in Other countries are higher.\n"
     ]
    }
   ],
   "source": [
    "data['Total_Purchase']=data['NumDealsPurchases']+ data['NumWebPurchases']+data['NumCatalogPurchases']+data['NumStorePurchases']\n",
    "data['Country_Group'] = data['Country'].apply(lambda x: 'US' if x == 'US' else 'Other')\n",
    "grouped_data = data.groupby('Country_Group')['Total_Purchase'].sum()\n",
    "us_total = grouped_data.get('US', 0)\n",
    "other_total = grouped_data.get('Other', 0)\n",
    "if us_total > other_total:\n",
    "    print(\"Total purchases in the US are higher.\")\n",
    "elif us_total < other_total:\n",
    "    print(\"Total purchases in Other countries are higher.\")\n",
    "else:\n",
    "    print(\"Total purchases are equal between the US and Other countries.\")"
   ]
  },
  {
   "cell_type": "markdown",
   "id": "4ba9c3c3-67b9-4269-bf2a-713e01600b43",
   "metadata": {},
   "source": [
    "**8.A Identify the top-performing products and those with the lowest revenue**\n",
    "Top performance Products and Lowest revenue"
   ]
  },
  {
   "cell_type": "code",
   "execution_count": 20,
   "id": "69589004-cee4-4584-8aef-8cab36be848a",
   "metadata": {},
   "outputs": [],
   "source": [
    "product_columns = ['MntWines', 'MntFruits', 'MntMeatProducts','MntFishProducts', 'MntSweetProducts', 'MntGoldProds']\n",
    "total_revenue = data[product_columns].sum()\n",
    "print('Top Perform Product: ',total_revenue.idxmax())"
   ]
  },
  {
   "cell_type": "code",
   "execution_count": 19,
   "id": "8fff6a85-4110-4d32-841a-78c119ba7c13",
   "metadata": {},
   "outputs": [
    {
     "name": "stdout",
     "output_type": "stream",
     "text": [
      "Top Perform Product:  MntWines\n"
     ]
    }
   ],
   "source": [
    "print('Lowest revenue Product: ',total_revenue.idxmin())"
   ]
  },
  {
   "cell_type": "markdown",
   "id": "dec4282a-8ee3-49d6-ad25-cbd8a79b695b",
   "metadata": {},
   "source": [
    "**8.B  there is a correlation between customers' age and the\n",
    "acceptance rate of the last campaign**"
   ]
  },
  {
   "cell_type": "code",
   "execution_count": 15,
   "id": "f23723a3-9203-4999-b46b-520426af3d0e",
   "metadata": {},
   "outputs": [
    {
     "name": "stdout",
     "output_type": "stream",
     "text": [
      "Correlation between Age and Complaints:  -0.02132521444197821\n"
     ]
    }
   ],
   "source": [
    "print('Correlation between Age and Complaints: ',data['Age'].corr(data['Response']))"
   ]
  },
  {
   "cell_type": "markdown",
   "id": "5aca7864-679d-4b0a-ae82-4a7123ebea04",
   "metadata": {},
   "source": [
    "**8.C  the country with the highest number of customers who\n",
    "accepted the last campaign**"
   ]
  },
  {
   "cell_type": "code",
   "execution_count": 16,
   "id": "26f8273e-de37-4126-b08a-63c0fcfd5f4e",
   "metadata": {},
   "outputs": [
    {
     "data": {
      "text/plain": [
       "'SP'"
      ]
     },
     "execution_count": 16,
     "metadata": {},
     "output_type": "execute_result"
    }
   ],
   "source": [
    "accepted_counts = data[data['Response'] == 1].groupby('Country').size()\n",
    "accepted_counts.idxmax()"
   ]
  },
  {
   "cell_type": "markdown",
   "id": "4746e757-d7b2-471b-b4e8-f4920b621ba7",
   "metadata": {},
   "source": [
    "**8.D there is a discernible pattern in the number of children at\n",
    "home and the total expenditure**"
   ]
  },
  {
   "cell_type": "code",
   "execution_count": 17,
   "id": "eb836673-ddcf-4cbc-a4c1-7d8e19dbc7ba",
   "metadata": {},
   "outputs": [
    {
     "name": "stdout",
     "output_type": "stream",
     "text": [
      "Correlation between Total Children and Total Spending:  -0.4988876486808991\n"
     ]
    },
    {
     "name": "stderr",
     "output_type": "stream",
     "text": [
      "/tmp/ipykernel_247/29155399.py:2: FutureWarning: The default value of numeric_only in DataFrame.corr is deprecated. In a future version, it will default to False. Select only valid columns or specify the value of numeric_only to silence this warning.\n",
      "  corr_spending_children=data.corr()\n"
     ]
    },
    {
     "data": {
      "image/png": "[encoded data removed]",
      "text/plain": [
       "<Figure size 432x288 with 2 Axes>"
      ]
     },
     "metadata": {
      "needs_background": "light"
     },
     "output_type": "display_data"
    }
   ],
   "source": [
    "print('Correlation between Total Children and Total Spending: ',data['total_children'].corr(data['total_spending']))\n",
    "corr_spending_children=data.corr()\n",
    "sns.heatmap(corr_spending_children);"
   ]
  },
  {
   "cell_type": "markdown",
   "id": "969060ae-7eab-4357-9b27-87e6d44cb809",
   "metadata": {},
   "source": [
    "**8.E Analyze the educational background of customers who lodged complaints\n",
    "in the last two years**"
   ]
  },
  {
   "cell_type": "code",
   "execution_count": 18,
   "id": "7d67b1b9-9c32-4920-b085-f7662e4ade11",
   "metadata": {},
   "outputs": [
    {
     "data": {
      "text/plain": [
       "'Graduation'"
      ]
     },
     "execution_count": 18,
     "metadata": {},
     "output_type": "execute_result"
    }
   ],
   "source": [
    "accepted_counts = data[data['Complain'] == 1].groupby('Education').size()\n",
    "accepted_counts.idxmax()"
   ]
  },
  {
   "cell_type": "code",
   "execution_count": null,
   "id": "62b5c720-6c1b-4a08-bf90-8fa4acb1f7c2",
   "metadata": {},
   "outputs": [],
   "source": []
  }
 ],
 "metadata": {
  "kernelspec": {
   "display_name": "Python 3 [3.10]",
   "language": "python",
   "name": "python3"
  },
  "language_info": {
   "codemirror_mode": {
    "name": "ipython",
    "version": 3
   },
   "file_extension": ".py",
   "mimetype": "text/x-python",
   "name": "python",
   "nbconvert_exporter": "python",
   "pygments_lexer": "ipython3",
   "version": "3.10.2"
  }
 },
 "nbformat": 4,
 "nbformat_minor": 5
}
